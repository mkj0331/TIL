{
 "cells": [
  {
   "cell_type": "code",
   "execution_count": 1,
   "id": "a8efa7ea",
   "metadata": {},
   "outputs": [],
   "source": [
    "import pandas as pd\n",
    "import matplotlib.pyplot as plt\n",
    "import seaborn as sns\n",
    "plt.rcParams['font.family'] = 'Malgun Gothic'"
   ]
  },
  {
   "cell_type": "code",
   "execution_count": 2,
   "id": "bcbc7198",
   "metadata": {},
   "outputs": [],
   "source": [
    "# 1. 데이터 불러오기 및 기본 탐색\n",
    "# 주어진 영화 데이터 파일을 불러온다.\n",
    "file_path = \"../data/movie_data.csv\"  # 실제 데이터 파일 경로\n",
    "df = pd.read_csv(file_path)  # 데이터를 불러오는 코드 작성"
   ]
  },
  {
   "cell_type": "code",
   "execution_count": 3,
   "id": "c953ed83",
   "metadata": {},
   "outputs": [
    {
     "name": "stdout",
     "output_type": "stream",
     "text": [
      "데이터 미리보기\n"
     ]
    },
    {
     "data": {
      "text/html": [
       "<div>\n",
       "<style scoped>\n",
       "    .dataframe tbody tr th:only-of-type {\n",
       "        vertical-align: middle;\n",
       "    }\n",
       "\n",
       "    .dataframe tbody tr th {\n",
       "        vertical-align: top;\n",
       "    }\n",
       "\n",
       "    .dataframe thead th {\n",
       "        text-align: right;\n",
       "    }\n",
       "</style>\n",
       "<table border=\"1\" class=\"dataframe\">\n",
       "  <thead>\n",
       "    <tr style=\"text-align: right;\">\n",
       "      <th></th>\n",
       "      <th>Title</th>\n",
       "      <th>Director</th>\n",
       "      <th>Year</th>\n",
       "      <th>Rating</th>\n",
       "    </tr>\n",
       "  </thead>\n",
       "  <tbody>\n",
       "    <tr>\n",
       "      <th>0</th>\n",
       "      <td>Jaws</td>\n",
       "      <td>Steven Spielberg</td>\n",
       "      <td>2009</td>\n",
       "      <td>6.9</td>\n",
       "    </tr>\n",
       "    <tr>\n",
       "      <th>1</th>\n",
       "      <td>E.T.</td>\n",
       "      <td>Steven Spielberg</td>\n",
       "      <td>1999</td>\n",
       "      <td>7.2</td>\n",
       "    </tr>\n",
       "    <tr>\n",
       "      <th>2</th>\n",
       "      <td>Jurassic Park</td>\n",
       "      <td>Steven Spielberg</td>\n",
       "      <td>1998</td>\n",
       "      <td>9.8</td>\n",
       "    </tr>\n",
       "    <tr>\n",
       "      <th>3</th>\n",
       "      <td>Schindler's List</td>\n",
       "      <td>Steven Spielberg</td>\n",
       "      <td>1991</td>\n",
       "      <td>5.1</td>\n",
       "    </tr>\n",
       "    <tr>\n",
       "      <th>4</th>\n",
       "      <td>Saving Private Ryan</td>\n",
       "      <td>Steven Spielberg</td>\n",
       "      <td>1985</td>\n",
       "      <td>8.6</td>\n",
       "    </tr>\n",
       "  </tbody>\n",
       "</table>\n",
       "</div>"
      ],
      "text/plain": [
       "                 Title          Director  Year  Rating\n",
       "0                 Jaws  Steven Spielberg  2009     6.9\n",
       "1                 E.T.  Steven Spielberg  1999     7.2\n",
       "2        Jurassic Park  Steven Spielberg  1998     9.8\n",
       "3     Schindler's List  Steven Spielberg  1991     5.1\n",
       "4  Saving Private Ryan  Steven Spielberg  1985     8.6"
      ]
     },
     "execution_count": 3,
     "metadata": {},
     "output_type": "execute_result"
    }
   ],
   "source": [
    "# 데이터의 첫 5행 출력 (EDA의 첫 단계)\n",
    "print(\"데이터 미리보기\")\n",
    "df.head()  # 데이터의 처음 몇 개의 행을 출력하는 코드 작성"
   ]
  },
  {
   "cell_type": "code",
   "execution_count": 4,
   "id": "9a05d18b",
   "metadata": {},
   "outputs": [
    {
     "name": "stdout",
     "output_type": "stream",
     "text": [
      "\n",
      "데이터 정보\n",
      "<class 'pandas.core.frame.DataFrame'>\n",
      "RangeIndex: 20 entries, 0 to 19\n",
      "Data columns (total 4 columns):\n",
      " #   Column    Non-Null Count  Dtype  \n",
      "---  ------    --------------  -----  \n",
      " 0   Title     20 non-null     object \n",
      " 1   Director  20 non-null     object \n",
      " 2   Year      20 non-null     int64  \n",
      " 3   Rating    20 non-null     float64\n",
      "dtypes: float64(1), int64(1), object(2)\n",
      "memory usage: 772.0+ bytes\n"
     ]
    }
   ],
   "source": [
    "# 데이터의 기본 정보 확인 (컬럼명, 데이터 타입, 결측값 확인)\n",
    "print(\"\\n데이터 정보\")\n",
    "df.info() # 데이터프레임의 정보를 출력하는 코드 작성"
   ]
  },
  {
   "cell_type": "code",
   "execution_count": 5,
   "id": "f40eec43",
   "metadata": {},
   "outputs": [],
   "source": [
    "# 2. 필요한 컬럼 선택 및 데이터 변환\n",
    "# 'Director' (감독) 컬럼과 'Rating' (평점) 컬럼이 존재한다고 가정하고, 필요한 컬럼만 선택\n",
    "df = df[['Director', 'Rating']].dropna()  # 감독과 평점 데이터가 없는 경우 제거"
   ]
  },
  {
   "cell_type": "code",
   "execution_count": 6,
   "id": "32cf22a3",
   "metadata": {},
   "outputs": [],
   "source": [
    "# 3. 특정 감독의 영화 데이터 필터링\n",
    "# 특정 감독의 이름을 설정 (예: 크리스토퍼 놀란)\n",
    "target_director = \"Christopher Nolan\"\n",
    "\n",
    "# 감독명이 target_director인 영화만 필터링\n",
    "director_movies = df[df['Director'] == target_director]"
   ]
  },
  {
   "cell_type": "code",
   "execution_count": 7,
   "id": "29b0dd0f",
   "metadata": {},
   "outputs": [
    {
     "data": {
      "image/png": "[encoded data removed]",
      "text/plain": [
       "<Figure size 1000x600 with 1 Axes>"
      ]
     },
     "metadata": {},
     "output_type": "display_data"
    }
   ],
   "source": [
    "# 4. 데이터 시각화: 특정 감독의 영화 평점 분포\n",
    "plt.figure(figsize=(10, 6))  # 그래프 크기 설정\n",
    "\n",
    "# 특정 감독의 영화 평점 데이터를 히스토그램으로 표현하는 코드 작성\n",
    "sns.histplot(director_movies, bins=10, kde=True, color='blue', alpha=0.7)\n",
    "\n",
    "# 그래프 제목 및 라벨 설정\n",
    "plt.title(f'{target_director} 영화의 평점 분포')\n",
    "plt.xlabel('평점')\n",
    "plt.ylabel('영화 개수')\n",
    "plt.grid(True)  # 격자 추가\n",
    "\n",
    "# 그래프 출력\n",
    "plt.show()"
   ]
  },
  {
   "cell_type": "code",
   "execution_count": 8,
   "id": "3f99602f",
   "metadata": {},
   "outputs": [],
   "source": [
    "# 5. 결과 해석\n",
    "# 특정 감독(예: 크리스토퍼 놀란)의 영화 평점 분포를 분석한다.\n",
    "# 그래프를 통해 해당 감독의 영화가 높은 평점을 많이 받았는지, 평점이 고르게 분포하는지 확인할 수 있다.\n",
    "# KDE(Kernel Density Estimate) 곡선을 통해 평점 분포의 밀도를 확인할 수 있다.\n",
    "# 특정 평점대(예: 8.0 이상)에 집중되어 있다면, 해당 감독이 대체로 좋은 평가를 받는다고 해석할 수 있다.\n",
    "# 반대로 평점이 다양하게 분포되어 있다면, 감독의 영화 스타일이 작품마다 평가가 다를 가능성이 있다."
   ]
  },
  {
   "cell_type": "code",
   "execution_count": null,
   "id": "a9c006e1",
   "metadata": {},
   "outputs": [],
   "source": []
  }
 ],
 "metadata": {
  "kernelspec": {
   "display_name": "Python 3",
   "language": "python",
   "name": "python3"
  },
  "language_info": {
   "codemirror_mode": {
    "name": "ipython",
    "version": 3
   },
   "file_extension": ".py",
   "mimetype": "text/x-python",
   "name": "python",
   "nbconvert_exporter": "python",
   "pygments_lexer": "ipython3",
   "version": "3.11.9"
  }
 },
 "nbformat": 4,
 "nbformat_minor": 5
}
