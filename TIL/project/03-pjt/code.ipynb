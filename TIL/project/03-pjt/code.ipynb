{
 "cells": [
  {
   "cell_type": "code",
   "execution_count": null,
   "id": "d07bdbc6",
   "metadata": {},
   "outputs": [],
   "source": [
    "#서울시 부동산 실거래 데이터를 활용해 자치구별/법정동별 거래 금액의 분포를 파악하고, 고가 지역의 특징을 분석\n",
    "    # 예상: 고가지역은 건물명이 보통 ..., 층수는 보통 ...,신축, ..., 면적이 ...,\n",
    "# “서울의 부동산 가격은 어디가 높고, 그 이유는 무엇인가?”"
   ]
  },
  {
   "cell_type": "code",
   "execution_count": 3,
   "id": "f07723c7",
   "metadata": {},
   "outputs": [],
   "source": [
    "import requests  # HTTP 요청을 보내고 응답을 받을 수 있도록 해주는 라이브러리\n",
    "import xml.etree.ElementTree as ET  # XML 데이터를 파싱(분석)하고 다루기 위한 라이브러리\n",
    "import pandas as pd  # 데이터프레임을 활용하여 데이터를 효율적으로 처리하기 위한 라이브러리\n",
    "from datetime import datetime, timedelta  # 날짜 및 시간 계산을 위해 필요한 라이브러리\n"
   ]
  },
  {
   "cell_type": "code",
   "execution_count": null,
   "id": "b5d78e7c",
   "metadata": {},
   "outputs": [],
   "source": [
    "# 서울 열린 데이터 광장 인증키 : '745062564a6d6b6a3931664f55684c'\n",
    "# 서울시 부동산 실거래가 정보(주소 : https://data.seoul.go.kr/dataList/OA-21275/S/1/datasetView.do)\n",
    "\n",
    "url = http://openapi.seoul.go.kr:8088/(인증키)/xml/tbLnOpendataRtmsV/1/1000/ # api_url 구성    "
   ]
  },
  {
   "cell_type": "code",
   "execution_count": 4,
   "id": "e4b5edd8",
   "metadata": {},
   "outputs": [],
   "source": [
    "api_key = '745062564a6d6b6a3931664f55684c'\n",
    "estate_url = 'http://openapi.seoul.go.kr:8088/'\n"
   ]
  },
  {
   "cell_type": "code",
   "execution_count": null,
   "id": "c83b05ef",
   "metadata": {},
   "outputs": [],
   "source": [
    "# 데이터 로드\n",
    "# API URL 구성 (날짜별 버스 데이터 요청)\n",
    "url = f'http://openapi.seoul.go.kr:8088/{api_key}/xml/tbLnOpendataRtmsV/1/1000/'\n",
    "\n",
    "# API 요청을 보냄\n",
    "response = requests.get(url)  # requests 라이브러리를 사용하여 GET 요청 보내기)\n",
    "print(\"답: 상태 코드:\", response.status_code)\n",
    "\n",
    "# XML 응답 데이터를 파싱\n",
    "root = ET.fromstring(response.content)  # API 응답 데이터를 XML 형식으로 변환)\n",
    "\n",
    "root"
   ]
  },
  {
   "cell_type": "code",
   "execution_count": null,
   "id": "bdd71de1",
   "metadata": {},
   "outputs": [],
   "source": [
    "# 데이터를 저장할 리스트 생성\n",
    "estate_data = []\n",
    "\n",
    "# 목표 : \"물건이 비싼 지역과 원인을 분석\"\n",
    "# THING_AMT\t- 물건금액(만원)\n",
    "# CGG_NM\t- 자치구명, STDG_CD   - 법정동명\n",
    "# BLDG_NM - 건물명, ARCH_AREA - 건물 면적, LAND_AREA - 토지 면적, FLR - 층, ARCH_YR - 건축년도\n",
    "\n",
    "for row in root.findall('.//row'):\n",
    "    estate_data.append({\n",
    "\n",
    "    })"
   ]
  },
  {
   "cell_type": "code",
   "execution_count": null,
   "id": "d01f49a0",
   "metadata": {},
   "outputs": [],
   "source": [
    "def estate_data(date):\n",
    "    \n",
    "    # API URL 구성 (날짜별 버스 데이터 요청)\n",
    "    url = f'http://openapi.seoul.go.kr:8088/{api_key}/xml/tbLnOpendataRtmsV/1/1000/'\n",
    "\n",
    "    # API 요청을 보냄\n",
    "    response = requests.get(url)  # requests 라이브러리를 사용하여 GET 요청 보내기)\n",
    "    print(\"답: 상태 코드:\", response.status_code)\n",
    "    \n",
    "    # XML 응답 데이터를 파싱\n",
    "    root = ET.fromstring(response.content)  # API 응답 데이터를 XML 형식으로 변환)\n",
    "\n",
    "    \n",
    "    # 데이터를 저장할 리스트 생성\n",
    "    bus_data = []\n",
    "    \n",
    "    # XML에서 <row> 태그를 찾아 각 데이터 항목을 추출\n",
    "    for row in root.findall('.//row'):\n",
    "        bus_data.append({\n",
    "            '날짜': row.find('USE_YMD').text if row.find('USE_YMD') is not None else '',  # 사용일자\n",
    "            '노선번호': row.find('RTE_NM').text if row.find('RTE_NM') is not None else '',  # row에서 'RTE_NM' 태그의 텍스트 추출)\n",
    "            '정류장명': row.find('STTN_NM').text if row.find('STTN_NM') is not None else '',  # row에서 'STTN_NM' 태그의 텍스트 추출)\n",
    "            '승차인원': int(row.find('GTON_TNOPE').text) if row.find('GTON_TNOPE') is not None else 0,  # 승차 인원\n",
    "            '하차인원': int(row.find('GTOFF_TNOPE').text) if row.find('GTOFF_TNOPE') is not None else 0  # 하차 인원\n",
    "        })\n",
    "\n",
    "    print(f\"설명: {date} 날짜의 버스 데이터를 수집하여 리스트에 저장했습니다.\")\n",
    "    \n",
    "    # 리스트를 데이터프레임으로 변환하여 반환\n",
    "    return pd.DataFrame(bus_data)"
   ]
  },
  {
   "cell_type": "code",
   "execution_count": null,
   "id": "a64341a6",
   "metadata": {},
   "outputs": [],
   "source": []
  },
  {
   "cell_type": "code",
   "execution_count": null,
   "id": "d5247aec",
   "metadata": {},
   "outputs": [],
   "source": []
  }
 ],
 "metadata": {
  "kernelspec": {
   "display_name": "Python 3",
   "language": "python",
   "name": "python3"
  },
  "language_info": {
   "codemirror_mode": {
    "name": "ipython",
    "version": 3
   },
   "file_extension": ".py",
   "mimetype": "text/x-python",
   "name": "python",
   "nbconvert_exporter": "python",
   "pygments_lexer": "ipython3",
   "version": "3.13.7"
  }
 },
 "nbformat": 4,
 "nbformat_minor": 5
}
