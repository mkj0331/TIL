{
 "cells": [
  {
   "cell_type": "code",
   "execution_count": 1,
   "id": "357a6cbb",
   "metadata": {},
   "outputs": [],
   "source": [
    "import mlflow"
   ]
  },
  {
   "cell_type": "code",
   "execution_count": 2,
   "id": "1e8c11f9",
   "metadata": {},
   "outputs": [],
   "source": [
    "# 숫자를 제곱하는 간단한 함수 정의\n",
    "def square_number(x):\n",
    "    return x**2"
   ]
  },
  {
   "cell_type": "code",
   "execution_count": 3,
   "id": "5cfc9f63",
   "metadata": {},
   "outputs": [],
   "source": [
    "mlflow.set_tracking_uri(\"http://127.0.0.1:5000\")"
   ]
  },
  {
   "cell_type": "code",
   "execution_count": 4,
   "id": "13a354ec",
   "metadata": {},
   "outputs": [
    {
     "name": "stderr",
     "output_type": "stream",
     "text": [
      "2025/10/01 14:58:46 INFO mlflow.tracking.fluent: Experiment with name 'hw1' does not exist. Creating a new experiment.\n"
     ]
    },
    {
     "data": {
      "text/plain": [
       "<Experiment: artifact_location='file:///C:/Users/SSAFY/Desktop/TIL/TIL/10-DataScience_Adv/6_c_mlflow/mlruns/4', creation_time=1759298326458, experiment_id='4', last_update_time=1759298326458, lifecycle_stage='active', name='hw1', tags={}>"
      ]
     },
     "execution_count": 4,
     "metadata": {},
     "output_type": "execute_result"
    }
   ],
   "source": [
    "mlflow.set_experiment('hw1')"
   ]
  },
  {
   "cell_type": "code",
   "execution_count": null,
   "id": "6bc6c492",
   "metadata": {},
   "outputs": [
    {
     "name": "stdout",
     "output_type": "stream",
     "text": [
      "🏃 View run square_1 at: http://127.0.0.1:5000/#/experiments/4/runs/07e67832abd34fe6bba9a3931e71dad4\n",
      "🧪 View experiment at: http://127.0.0.1:5000/#/experiments/4\n",
      "🏃 View run square_2 at: http://127.0.0.1:5000/#/experiments/4/runs/81be759698b349dba41515bc1b5d7af0\n",
      "🧪 View experiment at: http://127.0.0.1:5000/#/experiments/4\n",
      "🏃 View run square_3 at: http://127.0.0.1:5000/#/experiments/4/runs/0c099228ef7646e7a747609192b8ad72\n",
      "🧪 View experiment at: http://127.0.0.1:5000/#/experiments/4\n",
      "🏃 View run square_4 at: http://127.0.0.1:5000/#/experiments/4/runs/28c6acdb97804f40a99cb21269b84a23\n",
      "🧪 View experiment at: http://127.0.0.1:5000/#/experiments/4\n",
      "🏃 View run square_5 at: http://127.0.0.1:5000/#/experiments/4/runs/eac63b0367ab4d3b8df882f8e1b2fdba\n",
      "🧪 View experiment at: http://127.0.0.1:5000/#/experiments/4\n",
      "🏃 View run square_6 at: http://127.0.0.1:5000/#/experiments/4/runs/ff5cf6db08ba4c999b381a63c00e7069\n",
      "🧪 View experiment at: http://127.0.0.1:5000/#/experiments/4\n",
      "🏃 View run square_7 at: http://127.0.0.1:5000/#/experiments/4/runs/a55850e0a9074bc59f1d8af962c4f3a6\n",
      "🧪 View experiment at: http://127.0.0.1:5000/#/experiments/4\n",
      "🏃 View run square_8 at: http://127.0.0.1:5000/#/experiments/4/runs/d3f5205ce45747cd9570cd5d2246f737\n",
      "🧪 View experiment at: http://127.0.0.1:5000/#/experiments/4\n",
      "🏃 View run square_9 at: http://127.0.0.1:5000/#/experiments/4/runs/455eec6e94fb4fbcb2f1defdd064d451\n",
      "🧪 View experiment at: http://127.0.0.1:5000/#/experiments/4\n",
      "🏃 View run square_10 at: http://127.0.0.1:5000/#/experiments/4/runs/52419d5a64864fcd98eeb7e2713a8f8c\n",
      "🧪 View experiment at: http://127.0.0.1:5000/#/experiments/4\n"
     ]
    }
   ],
   "source": [
    "# 1부터 10까지 숫자를 반복하여 MLflow로 실험 추적 수행\n",
    "for x in range(1, 11) :\n",
    "    # MLflow의 실험 기록을 시작 (각 숫자마다 새로운 Run 생성)\n",
    "    # run_name으로 \"square_1\", \"square_2\", ..., \"square_10\" 등 이름 지정\n",
    "    with mlflow.start_run(run_name=f\"square_{x}\"):\n",
    "        result = square_number(x)  # 현재 숫자를 제곱하여 결과 계산\n",
    "        mlflow.log_param(\"input_number\", x)   # 현재 입력한 숫자(x)를 MLflow 파라미터로 기록\n",
    "        mlflow.log_metric(\"square_result\", result)  # 제곱한 결과를 MLflow 메트릭으로 기록"
   ]
  },
  {
   "cell_type": "code",
   "execution_count": null,
   "id": "cae8c1e8",
   "metadata": {},
   "outputs": [],
   "source": []
  }
 ],
 "metadata": {
  "kernelspec": {
   "display_name": "Python 3",
   "language": "python",
   "name": "python3"
  },
  "language_info": {
   "codemirror_mode": {
    "name": "ipython",
    "version": 3
   },
   "file_extension": ".py",
   "mimetype": "text/x-python",
   "name": "python",
   "nbconvert_exporter": "python",
   "pygments_lexer": "ipython3",
   "version": "3.11.9"
  }
 },
 "nbformat": 4,
 "nbformat_minor": 5
}
