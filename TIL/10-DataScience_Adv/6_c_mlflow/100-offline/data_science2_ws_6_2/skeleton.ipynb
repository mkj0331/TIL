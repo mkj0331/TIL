{
 "cells": [
  {
   "cell_type": "code",
   "execution_count": null,
   "id": "cae8c1e8",
   "metadata": {},
   "outputs": [
    {
     "name": "stderr",
     "output_type": "stream",
     "text": [
      "2025/10/01 13:26:32 INFO mlflow.tracking.fluent: Experiment with name 'my_first_experiment' does not exist. Creating a new experiment.\n"
     ]
    },
    {
     "data": {
      "text/plain": [
       "<Experiment: artifact_location='file:///c:/Users/SSAFY/Desktop/TIL/TIL/10-DataScience_Adv/6_c_mlflow/100-offline/data_science2_ws_6_2/mlruns/547463704624706629', creation_time=1759292792739, experiment_id='547463704624706629', last_update_time=1759292792739, lifecycle_stage='active', name='my_first_experiment', tags={}>"
      ]
     },
     "execution_count": 1,
     "metadata": {},
     "output_type": "execute_result"
    }
   ],
   "source": [
    "import mlflow\n",
    "\n",
    "mlflow.set_tracking_uri(\"http://127.0.0.1:5000\")\n",
    "\n",
    "mlflow.set_experiment('my_first_experiment') # 원하는 실험명을 작성"
   ]
  },
  {
   "cell_type": "code",
   "execution_count": 2,
   "id": "24538397",
   "metadata": {},
   "outputs": [],
   "source": [
    "accuracy = [0.85, 0.88, 1.0, 0.9, 0.85]\n",
    "\n",
    "for i in range(5): \n",
    "    with mlflow.start_run():\n",
    "        mlflow.log_param(\"pram1\", i+1)\n",
    "        mlflow.log_metric(\"accuracy\", accuracy[i])"
   ]
  },
  {
   "cell_type": "code",
   "execution_count": null,
   "id": "7cee1882",
   "metadata": {},
   "outputs": [],
   "source": []
  }
 ],
 "metadata": {
  "kernelspec": {
   "display_name": "Python 3",
   "language": "python",
   "name": "python3"
  },
  "language_info": {
   "codemirror_mode": {
    "name": "ipython",
    "version": 3
   },
   "file_extension": ".py",
   "mimetype": "text/x-python",
   "name": "python",
   "nbconvert_exporter": "python",
   "pygments_lexer": "ipython3",
   "version": "3.11.9"
  }
 },
 "nbformat": 4,
 "nbformat_minor": 5
}
