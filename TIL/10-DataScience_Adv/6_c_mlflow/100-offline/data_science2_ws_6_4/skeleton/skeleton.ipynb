{
 "cells": [
  {
   "cell_type": "code",
   "execution_count": 1,
   "id": "cae8c1e8",
   "metadata": {},
   "outputs": [],
   "source": [
    "import argparse\n",
    "import mlflow\n",
    "import mlflow.sklearn\n",
    "import numpy\n",
    "import pandas as pd\n",
    "from sklearn.datasets import load_iris\n",
    "from sklearn.linear_model import LogisticRegression\n",
    "from sklearn.ensemble import RandomForestClassifier\n",
    "from sklearn.metrics import accuracy_score, precision_score, recall_score\n",
    "from sklearn.model_selection import train_test_split\n",
    "from sklearn.preprocessing import StandardScaler\n",
    "from mlflow.models import infer_signature\n",
    "\n",
    "df = pd.read_csv('../data/creditcard.csv')"
   ]
  },
  {
   "cell_type": "code",
   "execution_count": 8,
   "id": "24538397",
   "metadata": {},
   "outputs": [],
   "source": [
    "parser = argparse.ArgumentParser()\n",
    "parser.add_argument(\"--max_iter\", type=int, default=1000)\n",
    "parser.add_argument(\"--n_estimators\", type=int, default=100)\n",
    "\n",
    "args = parser.parse_args(args=[])"
   ]
  },
  {
   "cell_type": "code",
   "execution_count": 10,
   "id": "c42b19f5",
   "metadata": {},
   "outputs": [],
   "source": [
    "X = df.drop(columns=\"Class\")\n",
    "y = df[\"Class\"]\n",
    "\n",
    "X_train, X_test, y_train, y_test = train_test_split(X, y, test_size=0.2, random_state=42)"
   ]
  },
  {
   "cell_type": "code",
   "execution_count": 11,
   "id": "9689aff9",
   "metadata": {},
   "outputs": [],
   "source": [
    "scaler = StandardScaler()\n",
    "X_train = scaler.fit_transform(X_train)\n",
    "X_test = scaler.transform(X_test)"
   ]
  },
  {
   "cell_type": "code",
   "execution_count": 12,
   "id": "6537103e",
   "metadata": {},
   "outputs": [
    {
     "name": "stderr",
     "output_type": "stream",
     "text": [
      "2025/10/01 14:19:27 INFO mlflow.tracking.fluent: Experiment with name 'ws4' does not exist. Creating a new experiment.\n"
     ]
    },
    {
     "data": {
      "text/plain": [
       "<Experiment: artifact_location='file:///C:/Users/SSAFY/Desktop/TIL/TIL/10-DataScience_Adv/6_c_mlflow/mlruns/3', creation_time=1759295967762, experiment_id='3', last_update_time=1759295967762, lifecycle_stage='active', name='ws4', tags={}>"
      ]
     },
     "execution_count": 12,
     "metadata": {},
     "output_type": "execute_result"
    }
   ],
   "source": [
    "mlflow.set_tracking_uri(\"http://127.0.0.1:5000\")\n",
    "\n",
    "mlflow.set_experiment(\"ws4\")"
   ]
  },
  {
   "cell_type": "code",
   "execution_count": 13,
   "id": "7c6e48b1",
   "metadata": {},
   "outputs": [
    {
     "name": "stderr",
     "output_type": "stream",
     "text": [
      "2025/10/01 14:20:56 WARNING mlflow.models.model: `artifact_path` is deprecated. Please use `name` instead.\n"
     ]
    },
    {
     "name": "stdout",
     "output_type": "stream",
     "text": [
      "🏃 View run LogisticRegression at: http://127.0.0.1:5000/#/experiments/3/runs/b3c94d09678b4cb692300052849c2e3a\n",
      "🧪 View experiment at: http://127.0.0.1:5000/#/experiments/3\n"
     ]
    }
   ],
   "source": [
    "with mlflow.start_run(run_name=\"LogisticRegression\"):\n",
    "    model = LogisticRegression(max_iter=args.max_iter)\n",
    "    model.fit(X_train, y_train)\n",
    "    preds = model.predict(X_test)\n",
    "\n",
    "    acc = accuracy_score(y_test, preds)\n",
    "    prec = precision_score(y_test, preds)\n",
    "    rec = precision_score(y_test, preds)\n",
    "\n",
    "    mlflow.log_param(\"model\", \"LogisticRegression\")\n",
    "    mlflow.log_param(\"max_iter\", 1000)\n",
    "    mlflow.log_metric(\"accuracy\", acc)\n",
    "    mlflow.log_metric(\"precision\", prec)\n",
    "    mlflow.log_metric(\"recall\", rec)\n",
    "\n",
    "    signature = infer_signature(X_train, preds)\n",
    "\n",
    "    mlflow.sklearn.log_model(model, \"model\", signature=signature)"
   ]
  },
  {
   "cell_type": "code",
   "execution_count": 14,
   "id": "f8ffdabf",
   "metadata": {},
   "outputs": [
    {
     "name": "stderr",
     "output_type": "stream",
     "text": [
      "2025/10/01 14:22:38 WARNING mlflow.models.model: `artifact_path` is deprecated. Please use `name` instead.\n"
     ]
    },
    {
     "name": "stdout",
     "output_type": "stream",
     "text": [
      "🏃 View run RandomForest at: http://127.0.0.1:5000/#/experiments/3/runs/c06bb88fb0304a6ca6eab9ec2b790406\n",
      "🧪 View experiment at: http://127.0.0.1:5000/#/experiments/3\n"
     ]
    }
   ],
   "source": [
    "with mlflow.start_run(run_name=\"RandomForest\"):\n",
    "    model = RandomForestClassifier(n_estimators=args.n_estimators)\n",
    "    model.fit(X_train, y_train)\n",
    "    preds = model.predict(X_test)\n",
    "\n",
    "\n",
    "    acc = accuracy_score(y_test, preds)\n",
    "    prec = precision_score(y_test, preds)\n",
    "    rec = precision_score(y_test, preds)\n",
    "\n",
    "    mlflow.log_param(\"model\", \"RandomForest\")\n",
    "    mlflow.log_param(\"n_estimators\", 100)\n",
    "    mlflow.log_metric(\"accuracy\", acc)\n",
    "    mlflow.log_metric(\"precision\", prec)\n",
    "    mlflow.log_metric(\"recall\", rec)\n",
    "\n",
    "    signature = infer_signature(X_train, preds)\n",
    "\n",
    "    mlflow.sklearn.log_model(model, \"model\", signature=signature)"
   ]
  }
 ],
 "metadata": {
  "kernelspec": {
   "display_name": "Python 3",
   "language": "python",
   "name": "python3"
  },
  "language_info": {
   "codemirror_mode": {
    "name": "ipython",
    "version": 3
   },
   "file_extension": ".py",
   "mimetype": "text/x-python",
   "name": "python",
   "nbconvert_exporter": "python",
   "pygments_lexer": "ipython3",
   "version": "3.11.9"
  }
 },
 "nbformat": 4,
 "nbformat_minor": 5
}
