{
 "cells": [
  {
   "cell_type": "code",
   "execution_count": 1,
   "id": "d90c05c7",
   "metadata": {},
   "outputs": [],
   "source": [
    "# 필요한 라이브러리 불러오기\n",
    "# pandas: 엑셀 파일 데이터를 처리\n",
    "# numpy: 숫자 배열 처리\n",
    "import pandas as pd\n",
    "from sklearn.model_selection import train_test_split\n",
    "from sklearn.preprocessing import StandardScaler"
   ]
  },
  {
   "cell_type": "code",
   "execution_count": 4,
   "id": "0ee73957",
   "metadata": {},
   "outputs": [],
   "source": [
    "# 1. 교통 데이터셋 불러오기\n",
    "# 엑셀 파일을 읽어 pandas DataFrame으로 변환\n",
    "# sheet_name=0: 첫 번째 시트 사용\n",
    "# 엑셀을 읽기 위해 openpyxl 설치 필요: pip install openpyxl\n",
    "excel_file = '../data/weekday_traffic.xlsx'  # 파일 경로 설정\n",
    "data = pd.read_excel(excel_file, sheet_name=0)"
   ]
  },
  {
   "cell_type": "code",
   "execution_count": 6,
   "id": "e761ab64",
   "metadata": {},
   "outputs": [],
   "source": [
    "# 2. 라벨 전처리\n",
    "# '혼잡'이라는 컬럼은 범주형(0 또는 1)으로 표현됨\n",
    "# 정수형으로 변환해 정제된 형태로 사용\n",
    "data['혼잡'] = data['혼잡'].astype(int)"
   ]
  },
  {
   "cell_type": "code",
   "execution_count": 7,
   "id": "dfc0b299",
   "metadata": {},
   "outputs": [],
   "source": [
    "# 3. 특징(feature) 선택\n",
    "# 시간대별 교통량 데이터: '8시', '9시', '10시' 열만 선택\n",
    "features = data[['8시', '9시', '10시']].astype(float).values  # → NumPy 배열"
   ]
  },
  {
   "cell_type": "code",
   "execution_count": 8,
   "id": "3d239a56",
   "metadata": {},
   "outputs": [],
   "source": [
    "# 4. 라벨(label) 선택\n",
    "# 혼잡 여부를 예측 대상으로 설정\n",
    "labels = data['혼잡'].values  # → NumPy 배열"
   ]
  },
  {
   "cell_type": "code",
   "execution_count": 9,
   "id": "9633ef19",
   "metadata": {},
   "outputs": [],
   "source": [
    "# 5. 훈련/테스트 세트 분할\n",
    "# 전체 데이터를 80:20 비율로 분할\n",
    "# train_test_split은 무작위로 섞어 데이터를 나눔\n",
    "X_train, X_test, y_train, y_test = train_test_split(features, labels, test_size=0.2, random_state=42)"
   ]
  },
  {
   "cell_type": "code",
   "execution_count": 10,
   "id": "f88986db",
   "metadata": {},
   "outputs": [],
   "source": [
    "# 6. 특징 정규화 (스케일 조정)\n",
    "# 모델 학습에 도움을 주는 전처리 작업\n",
    "scaler = StandardScaler()\n",
    "X_train = scaler.fit_transform(X_train)\n",
    "X_test = scaler.transform(X_test)"
   ]
  },
  {
   "cell_type": "code",
   "execution_count": 11,
   "id": "1f59df61",
   "metadata": {},
   "outputs": [
    {
     "name": "stdout",
     "output_type": "stream",
     "text": [
      "정규화된 X_train 샘플:\n",
      "[[ 0.33882621  0.62227315  1.43154237]\n",
      " [-1.27198856 -0.97784449 -1.02955794]\n",
      " [ 0.45113659  0.9613617   1.47288102]\n",
      " [ 0.69792555  0.69434808  1.26793327]\n",
      " [ 1.11857049  0.54730662  1.19849237]]\n",
      "\n",
      "정규화된 X_test 샘플:\n",
      "[[-0.56283761 -0.66954169 -0.64846618]\n",
      " [ 0.17720402  0.79835729  0.95148208]\n",
      " [ 0.46466009  0.42416511  0.85104939]\n",
      " [-0.26350141 -1.19851115 -1.03077353]\n",
      " [ 0.14423941  1.32070938  0.88969885]]\n"
     ]
    }
   ],
   "source": [
    "# 정규화된 훈련 데이터 일부 출력\n",
    "# 처음 5개 샘플의 특징값을 출력합니다\n",
    "print(\"정규화된 X_train 샘플:\")\n",
    "print(X_train[:5])\n",
    "\n",
    "# 정규화된 테스트 데이터도 보고 싶을 경우\n",
    "print(\"\\n정규화된 X_test 샘플:\")\n",
    "print(X_test[:5])"
   ]
  },
  {
   "cell_type": "code",
   "execution_count": 12,
   "id": "e0d56225",
   "metadata": {},
   "outputs": [
    {
     "name": "stdout",
     "output_type": "stream",
     "text": [
      "WARNING:tensorflow:From c:\\Users\\SSAFY\\Desktop\\TIL\\TIL\\10-DataScience_Adv\\4_a_deep_learning\\.venv\\Lib\\site-packages\\keras\\src\\losses.py:2976: The name tf.losses.sparse_softmax_cross_entropy is deprecated. Please use tf.compat.v1.losses.sparse_softmax_cross_entropy instead.\n",
      "\n",
      "WARNING:tensorflow:From c:\\Users\\SSAFY\\Desktop\\TIL\\TIL\\10-DataScience_Adv\\4_a_deep_learning\\.venv\\Lib\\site-packages\\keras\\src\\backend.py:873: The name tf.get_default_graph is deprecated. Please use tf.compat.v1.get_default_graph instead.\n",
      "\n"
     ]
    }
   ],
   "source": [
    "from tensorflow.keras.models import Sequential\n",
    "from tensorflow.keras.layers import Dense\n",
    "from tensorflow.keras.optimizers import SGD\n",
    "\n",
    "# 7. Sequential 모델 구성\n",
    "model = Sequential()\n",
    "model.add(Dense(8, input_dim=3, activation='ReLU'))  # 은닉층 (예: 뉴런 8개, ReLU 활성화)\n",
    "## input_dum : 입력 데이터의 피처 수\n",
    "model.add(Dense(1, activation='sigmoid'))            # 출력층 (sigmoid 활성화)\n"
   ]
  },
  {
   "cell_type": "code",
   "execution_count": 13,
   "id": "599b5dcf",
   "metadata": {},
   "outputs": [],
   "source": [
    "# 8. 모델 컴파일\n",
    "model.compile(loss='binary_crossentropy',            # 이진 분류 손실 함수\n",
    "              optimizer=SGD(),     # SGD 옵티마이저\n",
    "              metrics=['accuracy'])                  # 성능 지표: 정확도"
   ]
  },
  {
   "cell_type": "code",
   "execution_count": 15,
   "id": "99e62040",
   "metadata": {},
   "outputs": [
    {
     "name": "stdout",
     "output_type": "stream",
     "text": [
      "Epoch 1/20\n",
      "4/4 [==============================] - 0s 1ms/step - loss: 0.5936 - accuracy: 0.7273\n",
      "Epoch 2/20\n",
      "4/4 [==============================] - 0s 1000us/step - loss: 0.5893 - accuracy: 0.7576\n",
      "Epoch 3/20\n",
      "4/4 [==============================] - 0s 1ms/step - loss: 0.5862 - accuracy: 0.7879\n",
      "Epoch 4/20\n",
      "4/4 [==============================] - 0s 1ms/step - loss: 0.5817 - accuracy: 0.7879\n",
      "Epoch 5/20\n",
      "4/4 [==============================] - 0s 0s/step - loss: 0.5781 - accuracy: 0.7879\n",
      "Epoch 6/20\n",
      "4/4 [==============================] - 0s 0s/step - loss: 0.5753 - accuracy: 0.7879\n",
      "Epoch 7/20\n",
      "4/4 [==============================] - 0s 0s/step - loss: 0.5718 - accuracy: 0.7879\n",
      "Epoch 8/20\n",
      "4/4 [==============================] - 0s 0s/step - loss: 0.5685 - accuracy: 0.7879\n",
      "Epoch 9/20\n",
      "4/4 [==============================] - 0s 4ms/step - loss: 0.5655 - accuracy: 0.7879\n",
      "Epoch 10/20\n",
      "4/4 [==============================] - 0s 0s/step - loss: 0.5625 - accuracy: 0.7879\n",
      "Epoch 11/20\n",
      "4/4 [==============================] - 0s 0s/step - loss: 0.5593 - accuracy: 0.7879\n",
      "Epoch 12/20\n",
      "4/4 [==============================] - 0s 1ms/step - loss: 0.5563 - accuracy: 0.7879\n",
      "Epoch 13/20\n",
      "4/4 [==============================] - 0s 0s/step - loss: 0.5533 - accuracy: 0.7879\n",
      "Epoch 14/20\n",
      "4/4 [==============================] - 0s 3ms/step - loss: 0.5505 - accuracy: 0.7879\n",
      "Epoch 15/20\n",
      "4/4 [==============================] - 0s 0s/step - loss: 0.5480 - accuracy: 0.7879\n",
      "Epoch 16/20\n",
      "4/4 [==============================] - 0s 0s/step - loss: 0.5451 - accuracy: 0.7879\n",
      "Epoch 17/20\n",
      "4/4 [==============================] - 0s 5ms/step - loss: 0.5423 - accuracy: 0.7879\n",
      "Epoch 18/20\n",
      "4/4 [==============================] - 0s 0s/step - loss: 0.5399 - accuracy: 0.7879\n",
      "Epoch 19/20\n",
      "4/4 [==============================] - 0s 0s/step - loss: 0.5368 - accuracy: 0.7879\n",
      "Epoch 20/20\n",
      "4/4 [==============================] - 0s 0s/step - loss: 0.5337 - accuracy: 0.8182\n",
      "테스트 손실: 0.5804\n",
      "테스트 정확도: 77.78%\n"
     ]
    }
   ],
   "source": [
    "# 9. 모델 학습 및 평가\n",
    "history = model.fit(X_train, y_train, epochs=20, batch_size=10, verbose=1)  # 학습\n",
    "loss, accuracy = model.evaluate(X_test, y_test, verbose=0)                  # 평가\n",
    "\n",
    "print(f\"테스트 손실: {loss:.4f}\")\n",
    "print(f\"테스트 정확도: {accuracy*100:.2f}%\")"
   ]
  },
  {
   "cell_type": "code",
   "execution_count": null,
   "id": "6da8bf39",
   "metadata": {},
   "outputs": [],
   "source": []
  }
 ],
 "metadata": {
  "kernelspec": {
   "display_name": ".venv",
   "language": "python",
   "name": "python3"
  },
  "language_info": {
   "codemirror_mode": {
    "name": "ipython",
    "version": 3
   },
   "file_extension": ".py",
   "mimetype": "text/x-python",
   "name": "python",
   "nbconvert_exporter": "python",
   "pygments_lexer": "ipython3",
   "version": "3.11.9"
  }
 },
 "nbformat": 4,
 "nbformat_minor": 5
}
