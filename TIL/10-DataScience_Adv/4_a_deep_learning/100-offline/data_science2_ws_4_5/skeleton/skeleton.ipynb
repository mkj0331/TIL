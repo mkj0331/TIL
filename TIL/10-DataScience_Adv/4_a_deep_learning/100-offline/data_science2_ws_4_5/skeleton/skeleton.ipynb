{
 "cells": [
  {
   "cell_type": "code",
   "execution_count": 3,
   "id": "b6ad1caf",
   "metadata": {},
   "outputs": [],
   "source": [
    "# ------------------------- 필요한 라이브러리 불러오기 --------------------------------------------\n",
    "import numpy as np\n",
    "import matplotlib.pyplot as plt\n",
    "import tensorflow as tf\n",
    "from tensorflow.keras.models import Sequential\n",
    "from tensorflow.keras.layers import Conv2D, MaxPooling2D, GlobalAveragePooling2D, Dense\n",
    "from tensorflow.keras.optimizers import Adam\n",
    "from sklearn.utils import shuffle\n",
    "from sklearn.model_selection import train_test_split\n",
    "import pickle"
   ]
  },
  {
   "cell_type": "code",
   "execution_count": 4,
   "id": "248b995f",
   "metadata": {},
   "outputs": [],
   "source": [
    "import numpy as np\n",
    "import random\n",
    "import os\n",
    "\n",
    "seed = 42\n",
    "np.random.seed(seed)\n",
    "tf.random.set_seed(seed)\n",
    "random.seed(seed)\n",
    "os.environ[\"PYTHONHASHSEED\"] = str(seed)\n"
   ]
  },
  {
   "cell_type": "code",
   "execution_count": 11,
   "id": "3d0a7da3",
   "metadata": {},
   "outputs": [],
   "source": [
    "# ------------------------- 데이터셋 불러오기 --------------------------------------------\n",
    "# pickle로 저장된 이미지 데이터셋을 불러옵니다\n",
    "# 데이터는 'image'와 'label' 키를 가진 딕셔너리 구조입니다\n",
    "save_path = \"../data/gtsrb_train_dataset_2000_balanced.pkl\"\n",
    "with open(save_path, \"rb\") as f:\n",
    "    dataset = pickle.load(f)\n",
    "\n",
    "images = dataset['image']    # PIL.Image 객체의 리스트\n",
    "labels = dataset['label']    # 클래스 번호 리스트 (0~42)"
   ]
  },
  {
   "cell_type": "code",
   "execution_count": 12,
   "id": "b8aff1ef",
   "metadata": {},
   "outputs": [],
   "source": [
    "# ------------------------- 이미지 전처리 --------------------------------------------\n",
    "# 이미지 전처리 함수 정의\n",
    "# PIL 이미지를 224x224로 리사이즈 후 numpy 배열로 변환하고 정규화\n",
    "def preprocess(img):\n",
    "    img = img.resize((224, 224))\n",
    "    arr = np.array(img).astype(np.float32) / 255.0  # 0~1 사이 정규화\n",
    "    # -1 ~ 1 범위로 다시 스케일링 (평균 0.5, std 0.5 기준)\n",
    "    arr = (arr - 0.5) / 0.5\n",
    "    return arr"
   ]
  },
  {
   "cell_type": "code",
   "execution_count": 13,
   "id": "972cd464",
   "metadata": {},
   "outputs": [],
   "source": [
    "# 전체 이미지에 대해 전처리 적용\n",
    "X = np.array([preprocess(img) for img in images])\n",
    "y = np.array(labels)\n",
    "\n",
    "# 이미지와 라벨 순서 섞기\n",
    "X, y = shuffle(X, y, random_state=seed)\n",
    "\n",
    "# 훈련/테스트 데이터 분할\n",
    "#    test_size=0.2 → 80% 훈련, 20% 테스트\n",
    "X_train, X_test, y_train, y_test = train_test_split(\n",
    "    X, y, test_size=0.2, random_state=seed, stratify=y\n",
    ")"
   ]
  },
  {
   "cell_type": "code",
   "execution_count": 14,
   "id": "e5c47182",
   "metadata": {},
   "outputs": [
    {
     "name": "stderr",
     "output_type": "stream",
     "text": [
      "C:\\Users\\user\\AppData\\Roaming\\Python\\Python313\\site-packages\\keras\\src\\layers\\convolutional\\base_conv.py:113: UserWarning: Do not pass an `input_shape`/`input_dim` argument to a layer. When using Sequential models, prefer using an `Input(shape)` object as the first layer in the model instead.\n",
      "  super().__init__(activity_regularizer=activity_regularizer, **kwargs)\n"
     ]
    }
   ],
   "source": [
    "# ------------------------- Keras CNN 모델 정의 --------------------------------------------\n",
    "# Sequential 모델을 사용해 CNN 구성\n",
    "model = Sequential([\n",
    "    # 첫 번째 합성곱 층: 입력 224x224x3 → 출력 112x112x32 (MaxPooling으로 절반)\n",
    "    Conv2D(32, (3, 3), padding='same', activation='relu', input_shape=(224, 224, 3)),\n",
    "    MaxPooling2D(pool_size=(2, 2)),\n",
    "\n",
    "    # 두 번째 합성곱 층: 출력 56x56x64\n",
    "    Conv2D(64, (3, 3), padding='same', activation='relu'),\n",
    "    MaxPooling2D(pool_size=(2, 2)),\n",
    "\n",
    "    # 세 번째 합성곱 층: 출력 28x28x128\n",
    "    Conv2D(128, (3, 3), padding='same', activation='relu'),\n",
    "    MaxPooling2D(pool_size=(2, 2)),\n",
    "\n",
    "    # GlobalAveragePooling2D: 모든 공간 정보 평균 → (Batch, 128)\n",
    "    GlobalAveragePooling2D(),\n",
    "\n",
    "    # 완전 연결층\n",
    "    Dense(256, activation='relu'),\n",
    "\n",
    "    # 출력층: 43개의 교통 표지판 클래스에 대한 softmax 확률 출력\n",
    "    Dense(43, activation='softmax')\n",
    "])"
   ]
  },
  {
   "cell_type": "code",
   "execution_count": 15,
   "id": "30e550d8",
   "metadata": {},
   "outputs": [],
   "source": [
    "# ------------------------- 모델 컴파일 --------------------------------------------\n",
    "# loss: sparse_categorical_crossentropy 사용 (정수형 라벨에 적합)\n",
    "# optimizer: Adam 사용, 학습률 0.001로 설정\n",
    "# metrics: 정확도 평가\n",
    "model.compile(\n",
    "    optimizer=Adam(learning_rate=0.001),\n",
    "    loss='sparse_categorical_crossentropy',\n",
    "    metrics=['accuracy']\n",
    ")"
   ]
  },
  {
   "cell_type": "code",
   "execution_count": 17,
   "id": "fd7f4e45",
   "metadata": {},
   "outputs": [
    {
     "name": "stdout",
     "output_type": "stream",
     "text": [
      "Epoch 1/3\n",
      "\u001b[1m248/248\u001b[0m \u001b[32m━━━━━━━━━━━━━━━━━━━━\u001b[0m\u001b[37m\u001b[0m \u001b[1m97s\u001b[0m 387ms/step - accuracy: 0.0789 - loss: 3.2745\n",
      "Epoch 2/3\n",
      "\u001b[1m248/248\u001b[0m \u001b[32m━━━━━━━━━━━━━━━━━━━━\u001b[0m\u001b[37m\u001b[0m \u001b[1m89s\u001b[0m 358ms/step - accuracy: 0.1041 - loss: 3.1828\n",
      "Epoch 3/3\n",
      "\u001b[1m248/248\u001b[0m \u001b[32m━━━━━━━━━━━━━━━━━━━━\u001b[0m\u001b[37m\u001b[0m \u001b[1m130s\u001b[0m 308ms/step - accuracy: 0.1193 - loss: 3.1207\n"
     ]
    },
    {
     "data": {
      "text/plain": [
       "<keras.src.callbacks.history.History at 0x2dbc3455810>"
      ]
     },
     "execution_count": 17,
     "metadata": {},
     "output_type": "execute_result"
    }
   ],
   "source": [
    "# ------------------------- 모델 학습 --------------------------------------------\n",
    "# 배치 크기 설정: 한 번에 8개 샘플 학습\n",
    "# 에포크 수: 전체 데이터를 3회 반복\n",
    "model.fit(X, y, batch_size=8, epochs=3, verbose=1)"
   ]
  },
  {
   "cell_type": "code",
   "execution_count": 18,
   "id": "d50c496a",
   "metadata": {},
   "outputs": [
    {
     "name": "stdout",
     "output_type": "stream",
     "text": [
      "\u001b[1m13/13\u001b[0m \u001b[32m━━━━━━━━━━━━━━━━━━━━\u001b[0m\u001b[37m\u001b[0m \u001b[1m4s\u001b[0m 291ms/step - accuracy: 0.0909 - loss: 3.2008\n",
      "\n",
      "테스트 손실: 3.2008\n",
      "테스트 정확도: 9.09%\n"
     ]
    }
   ],
   "source": [
    "# ------------------------- 모델 평가 --------------------------------------------\n",
    "# 테스트 평가: 정확도 및 손실 계산\n",
    "loss, accuracy = model.evaluate(X_test, y_test, verbose=1)\n",
    "print(f\"\\n테스트 손실: {loss:.4f}\")\n",
    "print(f\"테스트 정확도: {accuracy*100:.2f}%\")"
   ]
  },
  {
   "cell_type": "code",
   "execution_count": null,
   "id": "549b6521",
   "metadata": {},
   "outputs": [],
   "source": []
  }
 ],
 "metadata": {
  "kernelspec": {
   "display_name": "Python 3",
   "language": "python",
   "name": "python3"
  },
  "language_info": {
   "codemirror_mode": {
    "name": "ipython",
    "version": 3
   },
   "file_extension": ".py",
   "mimetype": "text/x-python",
   "name": "python",
   "nbconvert_exporter": "python",
   "pygments_lexer": "ipython3",
   "version": "3.13.7"
  }
 },
 "nbformat": 4,
 "nbformat_minor": 5
}
