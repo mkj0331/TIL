{
 "cells": [
  {
   "cell_type": "code",
   "execution_count": null,
   "id": "3902de35",
   "metadata": {},
   "outputs": [],
   "source": [
    "import os\n",
    "from langchain.text_splitter import RecursiveCharacterTextSplitter\n",
    "from langchain_community.vectorstores.faiss import FAISS\n",
    "from langchain_core.runnables import RunnablePassthrough\n",
    "from langchain_openai import ChatOpenAI, OpenAIEmbeddings\n",
    "from langchain_core.prompts import PromptTemplate\n",
    "from langchain.schema import StrOutputParser\n",
    "from langchain_community.document_loaders import PyPDFDirectoryLoader\n",
    "\n",
    "# OpenAI API 키 설정 (실제 사용 시에는 안전한 방법으로 API 키를 관리해야 함)\n",
    "os.environ[\"OPENAI_API_KEY\"] = \"\""
   ]
  },
  {
   "cell_type": "code",
   "execution_count": 3,
   "id": "777fc603",
   "metadata": {},
   "outputs": [
    {
     "name": "stdout",
     "output_type": "stream",
     "text": [
      "문서의 수: 10\n",
      "\n",
      "[메타데이터]\n",
      "\n",
      "{'producer': 'Call PDF v 2.4', 'creator': 'Call PDF', 'creationdate': '', 'title': '', 'author': '', 'subject': '', 'source': '..\\\\data\\\\조간보도자료.pdf', 'total_pages': 10, 'page': 0, 'page_label': '1'}\n",
      "========= [앞부분] 미리보기 =========\n",
      "- 1 -\n",
      "금융위원회보도자료\n",
      "보도시점2024. 1.31 (수) 조간배포2024. 1. 30.(화) 09:00[2024년 금융위원회 정책 돋보기 ④]오늘부터 모든 주택의 전세대출을쉽고 편리하게 갈아탈 수 있습니다.- 「온라인·원스톱 대환대출 인프라」 대출 갈아타기 서비스,신용대출·주택담보대출에 이어 전세대출까지 확대  금융당국은 금융의 디지털 전환과 금융권 경쟁 촉진을 통해 국민들의 대출 이자 부담이 경감될 수 있도록 ‘23.5.31일 「온라인·원스톱 대환대출 인프라(이하 ‘대환대출 인프라’)」를 구축하였다. 대환대출 인프라를 통해 \n",
      "\n",
      "\n",
      "[메타데이터]\n",
      "\n",
      "{'producer': 'Call PDF v 2.4', 'creator': 'Call PDF', 'creationdate': '', 'title': '', 'author': '', 'subject': '', 'source': '..\\\\data\\\\조간보도자료.pdf', 'total_pages': 10, 'page': 3, 'page_label': '4'}\n",
      "========= [앞부분] 미리보기 =========\n",
      "- 4 -\n",
      "  전세대출 갈아타기 시 주의할 점은, 기존 대출의 대출보증*을 제공한 보증기관과 동일한 보증기관의 보증부 대출로만 갈아타기가 가능하다는 점이다. 예를 들어 한국주택금융공사(HF) 보증부 대출을 받은 차주의 경우, 대출 갈아타기는 한국주택금융공사의 보증부 대출상품으로만 가능하다. 이는 보증기관별로 대출보증 가입요건, 보증 한도, 반환보증 가입 의무 등이 상이하여 차주의 전세대출 대환 시 혼선을 방지하는 한편, 금융회사가 대출 심사 시 보증요건 심사를 신속히 처리할 수 있도록 하기 위한 것이다.*(대출보증)임차인(차주)의금\n"
     ]
    }
   ],
   "source": [
    "# ======================\n",
    "# [RAG 사용 pdf 파일정보]\n",
    "# - 조간보도자료.pdf: 금융위원회에서 발간한 서비스 전세 대출 서비스에 대한 보도자료\n",
    "# ======================\n",
    "# 1. 폴더 내의 모든 pdf 로드하여 QA(Question-Answering) 챗봇으로 변경하는 코드\n",
    "\n",
    "loader = PyPDFDirectoryLoader(\"../data\", glob=\"*.pdf\")\n",
    "docs = loader.load()\n",
    "\n",
    "print(f\"문서의 수: {len(docs)}\\n\")\n",
    "print(\"[메타데이터]\\n\")\n",
    "print(docs[0].metadata)\n",
    "print(\"========= [앞부분] 미리보기 =========\")\n",
    "print(docs[0].page_content[:300])\n",
    "print(\"\\n\\n[메타데이터]\\n\")\n",
    "print(docs[3].metadata)\n",
    "print(\"========= [앞부분] 미리보기 =========\")\n",
    "print(docs[3].page_content[:300])"
   ]
  },
  {
   "cell_type": "code",
   "execution_count": 4,
   "id": "93253f5b",
   "metadata": {},
   "outputs": [
    {
     "data": {
      "text/plain": [
       "26"
      ]
     },
     "execution_count": 4,
     "metadata": {},
     "output_type": "execute_result"
    }
   ],
   "source": [
    "# 2. 불러온 pdf를 청크로 나누고, 인덱싱\n",
    "text_splitter = RecursiveCharacterTextSplitter(chunk_size=500, chunk_overlap=50)\n",
    "\n",
    "splits = text_splitter.split_documents(docs)\n",
    "len(splits)"
   ]
  },
  {
   "cell_type": "code",
   "execution_count": 5,
   "id": "3d4208d4",
   "metadata": {},
   "outputs": [],
   "source": [
    "# 3. 벡터스토어를 생성\n",
    "vectorstore = FAISS.from_documents(documents=splits, embedding=OpenAIEmbeddings(model=\"text-embedding-3-small\"))"
   ]
  },
  {
   "cell_type": "code",
   "execution_count": 6,
   "id": "d4cf8b11",
   "metadata": {},
   "outputs": [],
   "source": [
    "# 4. 뉴스에 포함되어 있는 정보를 검색하고 생성\n",
    "retriever = vectorstore.as_retriever()\n",
    "\n",
    "prompt = PromptTemplate.from_template(\n",
    "    \"\"\"당신은 질문-답변(Question-Answering)을 수행하는 친절한 AI 어시스턴트입니다. 당신의 임무는 주어진 문맥(context) 에서 주어진 질문(question) 에 답하는 것입니다.\n",
    "검색된 다음 문맥(context) 을 사용하여 질문(question) 에 답하세요. 만약, 주어진 문맥(context) 에서 답을 찾을 수 없다면, 답을 모른다면 `주어진 정보에서 질문에 대한 정보를 찾을 수 없습니다` 라고 답하세요.\n",
    "한글로 답변해 주세요. 단, 기술적인 용어나 이름은 번역하지 않고 그대로 사용해 주세요.\n",
    "\n",
    "#Question:\n",
    "{question}\n",
    "\n",
    "#Context:\n",
    "{context}\n",
    "\n",
    "#Answer:\"\"\"\n",
    ")\n",
    "\n",
    "llm = ChatOpenAI(model_name=\"gpt-5-nano\", temperature=1)\n"
   ]
  },
  {
   "cell_type": "code",
   "execution_count": 7,
   "id": "d52afda1",
   "metadata": {},
   "outputs": [],
   "source": [
    "# 5. 체인을 생성\n",
    "rag_chain = (\n",
    "    {\"context\": retriever, \"question\": RunnablePassthrough()}\n",
    "    | prompt\n",
    "    | llm\n",
    "    | StrOutputParser()\n",
    ")"
   ]
  },
  {
   "cell_type": "code",
   "execution_count": 8,
   "id": "096355f3",
   "metadata": {},
   "outputs": [
    {
     "name": "stdout",
     "output_type": "stream",
     "text": [
      "주어진 정보에서 질문에 대한 정보를 찾을 수 없습니다\n"
     ]
    }
   ],
   "source": [
    "answer = rag_chain.invoke(\"전세 대출 서비스에 대해서 문의 할 수 있는 연락처 정보 알려줘.\")\n",
    "print(answer)"
   ]
  },
  {
   "cell_type": "code",
   "execution_count": 9,
   "id": "59cba634",
   "metadata": {},
   "outputs": [
    {
     "name": "stdout",
     "output_type": "stream",
     "text": [
      "다음은 금융위원회가 발간한 서비스 요약 내용입니다.\n",
      "\n",
      "- 온라인·원스톱 대환대출 인프라 구축 및 확대\n",
      "  - 목적: 금융권의 디지털 전환과 경쟁 촉진을 통해 대출 이자 부담 경감 및 이용 편의성 제고.\n",
      "  - 구성: 신용대출 갈아타기, 주택담보대출 갈아타기, 전세대출 갈아타기 등 대환대출 서비스의 통합 운영 인프라.\n",
      "\n",
      "- 서비스 개시 현황(개시일)\n",
      "  - 신용대출 갈아타기: 2023년 5월 31일 운영 시작\n",
      "  - 주택담보대출 갈아타기: 2024년 1월 9일 운영 시작\n",
      "  - 전세대출 갈아타기: 2024년 1월 31일 운영 시작\n",
      "\n",
      "- 대상 확대 및 개선 계획\n",
      "  - 주택담보대출 갈아타기 대상 확대: 2024년 6월 말까지 실시간 시세 조회가 가능한 빌라, 오피스텔 등까지 확대를 검토 중\n",
      "  - 전세대출 갈아타기 기간 확대: 전세대출 보증기관의 보증기준에 따른 현재 기간 제한을 보증기관과 협의해 확대하는 방안을 검토 중\n",
      "\n",
      "- 기대 효과 및 운영 방향\n",
      "  - 국민들의 대출 이자 부담 경감과 금융권 경쟁 촉진을 통한 대출 이용 편의성 제고\n",
      "  - 서비스 이용 현황 면밀히 모니터링하고 필요 시 개선방안 지속 검토\n",
      "\n",
      "- 추가 참고\n",
      "  - 전세대출의 기간 제한 및 보증기관 협의 등 구체적 운영 조건은 보도자료에 명시된 바에 따라 점진적으로 개선 예정\n"
     ]
    }
   ],
   "source": [
    "answer = rag_chain.invoke(\"금융위원회에서 발간한 서비스 요약해줘.\")\n",
    "print(answer)"
   ]
  },
  {
   "cell_type": "code",
   "execution_count": null,
   "id": "1a158a1d",
   "metadata": {},
   "outputs": [],
   "source": []
  }
 ],
 "metadata": {
  "kernelspec": {
   "display_name": "Python 3",
   "language": "python",
   "name": "python3"
  },
  "language_info": {
   "codemirror_mode": {
    "name": "ipython",
    "version": 3
   },
   "file_extension": ".py",
   "mimetype": "text/x-python",
   "name": "python",
   "nbconvert_exporter": "python",
   "pygments_lexer": "ipython3",
   "version": "3.11.9"
  }
 },
 "nbformat": 4,
 "nbformat_minor": 5
}
